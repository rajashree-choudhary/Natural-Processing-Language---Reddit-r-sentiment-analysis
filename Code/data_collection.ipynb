{
 "cells": [
  {
   "cell_type": "code",
   "execution_count": 1,
   "id": "7415485b-5a96-4719-b7e8-27581e8ad6a1",
   "metadata": {},
   "outputs": [],
   "source": [
    "#imports\n",
    "import praw\n",
    "import pandas as pd\n",
    "import datetime\n",
    "import requests\n",
    "import pprint"
   ]
  },
  {
   "cell_type": "code",
   "execution_count": 2,
   "id": "bffe33e2-2798-48ef-af71-8d766d946f89",
   "metadata": {
    "tags": []
   },
   "outputs": [],
   "source": [
    "# #Initialize Praw\n",
    "# reddit = praw.Reddit(\n",
    "#     client_id='',\n",
    "#     client_secret='',\n",
    "#     user_agent='',\n",
    "#     username='',\n",
    "#     password=''\n",
    "# )"
   ]
  },
  {
   "cell_type": "code",
   "execution_count": 37,
   "id": "dea41349-7ec7-4f6b-9731-6421acd2b033",
   "metadata": {
    "tags": []
   },
   "outputs": [
    {
     "data": {
      "text/plain": [
       "False"
      ]
     },
     "execution_count": 37,
     "metadata": {},
     "output_type": "execute_result"
    }
   ],
   "source": [
    "reddit.read_only"
   ]
  },
  {
   "cell_type": "code",
   "execution_count": 38,
   "id": "ddea2875-c8b3-4eae-ae1d-7575cd8b5ec3",
   "metadata": {
    "tags": []
   },
   "outputs": [],
   "source": [
    "# subreddit = reddit.subreddit('nasdaq')\n",
    "\n",
    "# posts = subreddit.new(limit=100)"
   ]
  },
  {
   "cell_type": "code",
   "execution_count": 39,
   "id": "cff3f891-1bba-4439-aa6e-428df9120945",
   "metadata": {
    "tags": []
   },
   "outputs": [
    {
     "name": "stdout",
     "output_type": "stream",
     "text": [
      "<praw.models.listing.generator.ListingGenerator object at 0x15384e8d0>\n"
     ]
    }
   ],
   "source": [
    "# print(posts)\n"
   ]
  },
  {
   "cell_type": "markdown",
   "id": "499ce784-a2b3-4dfb-ae35-7f276ce6b080",
   "metadata": {},
   "source": [
    "# Stocks"
   ]
  },
  {
   "cell_type": "code",
   "execution_count": null,
   "id": "b105f43d-b67a-4e6a-afea-341aef2b73d9",
   "metadata": {
    "tags": []
   },
   "outputs": [],
   "source": [
    "# for sub in reddit.subreddit('nasdaq').hot(limit=10):\n",
    "#     print(sub.title, sub.num_comments)"
   ]
  },
  {
   "cell_type": "code",
   "execution_count": null,
   "id": "870bffd1-7d20-4bbb-936c-5d634094b6d7",
   "metadata": {
    "tags": []
   },
   "outputs": [],
   "source": [
    "#pprint.pprint(vars(sub))"
   ]
  },
  {
   "cell_type": "code",
   "execution_count": 42,
   "id": "e5ceb168-78a9-45e2-acb7-d53cca47dd48",
   "metadata": {},
   "outputs": [],
   "source": [
    "#'subreddit', 'subreddit_id', 'title', 'created_utc', 'subreddit_subscribers'"
   ]
  },
  {
   "cell_type": "code",
   "execution_count": 43,
   "id": "6e60bbd4-6f95-431a-ba5b-6657a41da239",
   "metadata": {},
   "outputs": [],
   "source": [
    "#'url', 'upvote_ratio', 'num_comments'"
   ]
  },
  {
   "cell_type": "markdown",
   "id": "fdf0cc48-4f9b-42c9-b834-5d865da344c6",
   "metadata": {
    "tags": []
   },
   "source": [
    "## From NEW posts"
   ]
  },
  {
   "cell_type": "code",
   "execution_count": 11,
   "id": "3e3ae342-7edc-4c86-9110-d1af70d8c4f1",
   "metadata": {
    "tags": []
   },
   "outputs": [],
   "source": [
    "# create lists for various information we need from \"new\" post\n",
    "subreddit_id = []\n",
    "subreddit = []\n",
    "title = []\n",
    "created_utc = []\n",
    "time_now = []\n",
    "time_dif = []\n",
    "selftext = []\n",
    "num_comments = []\n",
    "upvote_ratio = []\n",
    "url = []\n",
    "\n",
    "for sub in reddit.subreddit('stocks').new(limit=1000):\n",
    "    # sub id\n",
    "    subreddit_id.append(sub.id)\n",
    "    \n",
    "    subreddit.append(sub.subreddit)\n",
    "    \n",
    "    title.append(sub.title)\n",
    "    \n",
    "    created_utc.append(datetime.datetime.utcfromtimestamp(sub.created_utc))\n",
    "    \n",
    "    # time it was scraped\n",
    "    time_now.append(datetime.datetime.utcnow())\n",
    "    \n",
    "    # time difference\n",
    "    time_dif.append(datetime.datetime.utcnow() - datetime.datetime.utcfromtimestamp(sub.created_utc))\n",
    "    \n",
    "    selftext.append(sub.selftext)\n",
    "    \n",
    "    num_comments.append(sub.num_comments)\n",
    "    \n",
    "    upvote_ratio.append(sub.upvote_ratio)\n",
    "    \n",
    "    url.append(sub.url)"
   ]
  },
  {
   "cell_type": "code",
   "execution_count": 12,
   "id": "f4802525-1445-4d8f-96da-4621907afae8",
   "metadata": {
    "tags": []
   },
   "outputs": [],
   "source": [
    "df_subreddit_nasdaq_1 = pd.DataFrame({'id': subreddit_id,\n",
    "                                      'subreddit': subreddit,\n",
    "                                      'title': title, \n",
    "                                      'posttext': selftext,  \n",
    "                                      'time_posted': created_utc,\n",
    "                                      'time_now': time_now, \n",
    "                                      'time_difference': time_dif,\n",
    "                                      'num_comments': num_comments,\n",
    "                                      'upvote_ratio': upvote_ratio,\n",
    "                                      'url': url}\n",
    "                                    )"
   ]
  },
  {
   "cell_type": "code",
   "execution_count": 13,
   "id": "8818bbdb-7f48-4fdb-8b34-8f8c32cf558e",
   "metadata": {
    "tags": []
   },
   "outputs": [],
   "source": [
    "#df_subreddit_nasdaq_1"
   ]
  },
  {
   "cell_type": "code",
   "execution_count": 14,
   "id": "adc2cf0b-5317-4a79-b93d-d16c70474ae0",
   "metadata": {
    "tags": []
   },
   "outputs": [],
   "source": [
    "df_subreddit_nasdaq_1.to_csv('../collected_data/data/1march_n_stocks.csv', index=False)"
   ]
  },
  {
   "cell_type": "markdown",
   "id": "5188942b-defa-49c3-925e-c69fdbea4d79",
   "metadata": {},
   "source": [
    "# Investing"
   ]
  },
  {
   "cell_type": "code",
   "execution_count": 14,
   "id": "64cb6b4d-ccac-49fd-a7d5-c34bb31eb4cb",
   "metadata": {
    "tags": []
   },
   "outputs": [
    {
     "name": "stdout",
     "output_type": "stream",
     "text": [
      "Daily General Discussion and Advice Thread - February 27, 2024 25\n"
     ]
    }
   ],
   "source": [
    "for sub in reddit.subreddit('investing').hot(limit=1):\n",
    "    print(sub.title, sub.num_comments)"
   ]
  },
  {
   "cell_type": "code",
   "execution_count": 1,
   "id": "d10910d5-5556-4fd9-8bac-a55fcff18e9c",
   "metadata": {
    "tags": []
   },
   "outputs": [
    {
     "ename": "NameError",
     "evalue": "name 'pprint' is not defined",
     "output_type": "error",
     "traceback": [
      "\u001b[0;31m---------------------------------------------------------------------------\u001b[0m",
      "\u001b[0;31mNameError\u001b[0m                                 Traceback (most recent call last)",
      "Cell \u001b[0;32mIn[1], line 1\u001b[0m\n\u001b[0;32m----> 1\u001b[0m pprint\u001b[38;5;241m.\u001b[39mpprint(\u001b[38;5;28mvars\u001b[39m(sub))\n",
      "\u001b[0;31mNameError\u001b[0m: name 'pprint' is not defined"
     ]
    }
   ],
   "source": [
    "pprint.pprint(vars(sub))"
   ]
  },
  {
   "cell_type": "markdown",
   "id": "4f84c96f-97de-4f35-91bc-ae74be889629",
   "metadata": {},
   "source": [
    "## From NEW post"
   ]
  },
  {
   "cell_type": "code",
   "execution_count": 20,
   "id": "edd2b183-2efb-4563-a53e-8cd093898088",
   "metadata": {
    "tags": []
   },
   "outputs": [],
   "source": [
    "# create lists for various information we need from \"new\" post\n",
    "subreddit_id = []\n",
    "subreddit = []\n",
    "title = []\n",
    "created_utc = []\n",
    "time_now = []\n",
    "time_dif = []\n",
    "selftext = []\n",
    "num_comments = []\n",
    "upvote_ratio = []\n",
    "url = []\n",
    "\n",
    "for sub in reddit.subreddit('investing').new(limit=1000):\n",
    "    # sub id\n",
    "    subreddit_id.append(sub.id)\n",
    "    \n",
    "    subreddit.append(sub.subreddit)\n",
    "    \n",
    "    title.append(sub.title)\n",
    "    \n",
    "    created_utc.append(datetime.datetime.utcfromtimestamp(sub.created_utc))\n",
    "    \n",
    "    # time it was scraped\n",
    "    time_now.append(datetime.datetime.utcnow())\n",
    "    \n",
    "    # time difference\n",
    "    time_dif.append(datetime.datetime.utcnow() - datetime.datetime.utcfromtimestamp(sub.created_utc))\n",
    "    \n",
    "    selftext.append(sub.selftext)\n",
    "    \n",
    "    num_comments.append(sub.num_comments)\n",
    "    \n",
    "    upvote_ratio.append(sub.upvote_ratio)\n",
    "    \n",
    "    url.append(sub.url)"
   ]
  },
  {
   "cell_type": "code",
   "execution_count": 21,
   "id": "fd413d6f-0c5e-4911-9a28-607b341f265d",
   "metadata": {
    "tags": []
   },
   "outputs": [],
   "source": [
    "df_subreddit_investing = pd.DataFrame({'id': subreddit_id,\n",
    "                                      'subreddit': subreddit,\n",
    "                                      'title': title, \n",
    "                                      'posttext': selftext,  \n",
    "                                      'time_posted': created_utc,\n",
    "                                      'time_now': time_now, \n",
    "                                      'time_difference': time_dif,\n",
    "                                      'num_comments': num_comments,\n",
    "                                      'upvote_ratio': upvote_ratio,\n",
    "                                      'url': url}\n",
    "                                    )"
   ]
  },
  {
   "cell_type": "code",
   "execution_count": 22,
   "id": "c896d5e6-8f9a-4057-a4ca-b61d39726724",
   "metadata": {
    "tags": []
   },
   "outputs": [],
   "source": [
    "df_subreddit_investing.to_csv('../collected_data/data/28feb_n_investing.csv', index=False)"
   ]
  },
  {
   "cell_type": "code",
   "execution_count": null,
   "id": "d3ec0f94-dc15-4770-8f22-cbd88e8c215d",
   "metadata": {},
   "outputs": [],
   "source": []
  }
 ],
 "metadata": {
  "kernelspec": {
   "display_name": "Python 3 (ipykernel)",
   "language": "python",
   "name": "python3"
  },
  "language_info": {
   "codemirror_mode": {
    "name": "ipython",
    "version": 3
   },
   "file_extension": ".py",
   "mimetype": "text/x-python",
   "name": "python",
   "nbconvert_exporter": "python",
   "pygments_lexer": "ipython3",
   "version": "3.11.5"
  }
 },
 "nbformat": 4,
 "nbformat_minor": 5
}
