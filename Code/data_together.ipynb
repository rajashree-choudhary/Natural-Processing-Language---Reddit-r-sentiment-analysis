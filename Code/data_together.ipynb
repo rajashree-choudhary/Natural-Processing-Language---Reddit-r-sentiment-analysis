{
 "cells": [
  {
   "cell_type": "code",
   "execution_count": 1,
   "id": "392b38f4-45c3-45a7-909f-1048ba94f0de",
   "metadata": {
    "tags": []
   },
   "outputs": [],
   "source": [
    "#Libraries\n",
    "import pandas as pd\n",
    "import numpy as np\n",
    "import matplotlib.pyplot as plt\n",
    "import seaborn as sns\n",
    "import os"
   ]
  },
  {
   "cell_type": "code",
   "execution_count": null,
   "id": "eb840481-9d87-42c2-bdde-a7df7da7b3bb",
   "metadata": {},
   "outputs": [],
   "source": []
  },
  {
   "cell_type": "code",
   "execution_count": 2,
   "id": "59d1634f-f55b-4a0a-926e-5d99cc4eb728",
   "metadata": {
    "tags": []
   },
   "outputs": [],
   "source": [
    "def process_and_output_csvs(input_folder, output_folder):\n",
    "    # Create the output folder if it doesn't exist\n",
    "    if not os.path.exists(output_folder):\n",
    "        os.makedirs(output_folder)\n",
    "\n",
    "    all_data = []\n",
    "    \n",
    "    # Iterate through each file in the input folder\n",
    "    for filename in os.listdir(input_folder):\n",
    "        if filename.endswith('.csv'):\n",
    "            file_path = os.path.join(input_folder, filename)\n",
    "            try:\n",
    "                # Read the CSV file and append to the list\n",
    "                data = pd.read_csv(file_path)\n",
    "                all_data.append(data)\n",
    "            except Exception as e:\n",
    "                print(f\"Error processing file {filename}: {e}\")\n",
    "     # Check if all_data is not empty\n",
    "    if not all_data:\n",
    "        print(\"No data to process. Check if the folder contains CSV files or if they are readable.\")\n",
    "        return\n",
    "\n",
    "    # Concatenate all dataframes\n",
    "    concatenated_df = pd.concat(all_data, ignore_index=True)\n",
    "    \n",
    "    # Drop duplicate rows\n",
    "    concatenated_df.drop_duplicates(inplace=True)\n",
    "\n",
    "    # Group by subreddit and create/update separate files\n",
    "    for subreddit, group in concatenated_df.groupby('subreddit'):\n",
    "        output_file = os.path.join(output_folder, f\"{subreddit}.csv\")\n",
    "        if os.path.exists(output_file):\n",
    "            # Read existing file, drop duplicates with the new data, and then append\n",
    "            existing_data = pd.read_csv(output_file)\n",
    "            combined_data = pd.concat([existing_data, group]).drop_duplicates()\n",
    "            combined_data.to_csv(output_file, index=False)\n",
    "        else:\n",
    "            # If file doesn't exist, write with header\n",
    "            group.to_csv(output_file, index=False)"
   ]
  },
  {
   "cell_type": "code",
   "execution_count": 3,
   "id": "427fdd34-0afc-4d93-aa7d-bb87284ecfdb",
   "metadata": {
    "tags": []
   },
   "outputs": [],
   "source": [
    "input_folder = '../collected_data/data'\n",
    "output_folder = '../EDA/data/'\n",
    "process_and_output_csvs(input_folder, output_folder)"
   ]
  },
  {
   "cell_type": "markdown",
   "id": "948b058f-c752-4050-ae37-a656b0aa3f9a",
   "metadata": {},
   "source": [
    "## Stock Statistics"
   ]
  },
  {
   "cell_type": "code",
   "execution_count": 4,
   "id": "f8711685-813e-42a4-b5c6-a02ac9f24e7b",
   "metadata": {
    "tags": []
   },
   "outputs": [],
   "source": [
    "stocks = pd.read_csv('../EDA/data/stocks.csv')"
   ]
  },
  {
   "cell_type": "code",
   "execution_count": 5,
   "id": "7a0cfd03-c313-40a3-8ef7-5a3fb35419f2",
   "metadata": {
    "tags": []
   },
   "outputs": [
    {
     "data": {
      "text/html": [
       "<div>\n",
       "<style scoped>\n",
       "    .dataframe tbody tr th:only-of-type {\n",
       "        vertical-align: middle;\n",
       "    }\n",
       "\n",
       "    .dataframe tbody tr th {\n",
       "        vertical-align: top;\n",
       "    }\n",
       "\n",
       "    .dataframe thead th {\n",
       "        text-align: right;\n",
       "    }\n",
       "</style>\n",
       "<table border=\"1\" class=\"dataframe\">\n",
       "  <thead>\n",
       "    <tr style=\"text-align: right;\">\n",
       "      <th></th>\n",
       "      <th>id</th>\n",
       "      <th>subreddit</th>\n",
       "      <th>title</th>\n",
       "      <th>posttext</th>\n",
       "      <th>time_posted</th>\n",
       "      <th>time_now</th>\n",
       "      <th>time_difference</th>\n",
       "      <th>num_comments</th>\n",
       "      <th>upvote_ratio</th>\n",
       "      <th>url</th>\n",
       "    </tr>\n",
       "  </thead>\n",
       "  <tbody>\n",
       "    <tr>\n",
       "      <th>0</th>\n",
       "      <td>18888ww</td>\n",
       "      <td>stocks</td>\n",
       "      <td>Rate My Portfolio - r/Stocks Quarterly Thread ...</td>\n",
       "      <td>Please use this thread to discuss your portfol...</td>\n",
       "      <td>2023-12-01 10:00:24</td>\n",
       "      <td>2024-02-28 22:08:57.699800</td>\n",
       "      <td>89 days 12:08:33.699801</td>\n",
       "      <td>621</td>\n",
       "      <td>0.99</td>\n",
       "      <td>https://www.reddit.com/r/stocks/comments/18888...</td>\n",
       "    </tr>\n",
       "    <tr>\n",
       "      <th>1</th>\n",
       "      <td>1b22xgu</td>\n",
       "      <td>stocks</td>\n",
       "      <td>r/Stocks Daily Discussion Wednesday - Feb 28, ...</td>\n",
       "      <td>These daily discussions run from Monday to Fri...</td>\n",
       "      <td>2024-02-28 10:30:09</td>\n",
       "      <td>2024-02-28 22:08:57.699812</td>\n",
       "      <td>0 days 11:38:48.699813</td>\n",
       "      <td>387</td>\n",
       "      <td>0.88</td>\n",
       "      <td>https://www.reddit.com/r/stocks/comments/1b22x...</td>\n",
       "    </tr>\n",
       "  </tbody>\n",
       "</table>\n",
       "</div>"
      ],
      "text/plain": [
       "        id subreddit                                              title  \\\n",
       "0  18888ww    stocks  Rate My Portfolio - r/Stocks Quarterly Thread ...   \n",
       "1  1b22xgu    stocks  r/Stocks Daily Discussion Wednesday - Feb 28, ...   \n",
       "\n",
       "                                            posttext          time_posted  \\\n",
       "0  Please use this thread to discuss your portfol...  2023-12-01 10:00:24   \n",
       "1  These daily discussions run from Monday to Fri...  2024-02-28 10:30:09   \n",
       "\n",
       "                     time_now          time_difference  num_comments  \\\n",
       "0  2024-02-28 22:08:57.699800  89 days 12:08:33.699801           621   \n",
       "1  2024-02-28 22:08:57.699812   0 days 11:38:48.699813           387   \n",
       "\n",
       "   upvote_ratio                                                url  \n",
       "0          0.99  https://www.reddit.com/r/stocks/comments/18888...  \n",
       "1          0.88  https://www.reddit.com/r/stocks/comments/1b22x...  "
      ]
     },
     "execution_count": 5,
     "metadata": {},
     "output_type": "execute_result"
    }
   ],
   "source": [
    "stocks.head(2)"
   ]
  },
  {
   "cell_type": "code",
   "execution_count": 6,
   "id": "3a436bea-99ed-4a3d-a759-f0796a0b1ae7",
   "metadata": {
    "tags": []
   },
   "outputs": [
    {
     "data": {
      "text/plain": [
       "(6082, 10)"
      ]
     },
     "execution_count": 6,
     "metadata": {},
     "output_type": "execute_result"
    }
   ],
   "source": [
    "stocks.shape"
   ]
  },
  {
   "cell_type": "code",
   "execution_count": 7,
   "id": "1e7ecd72-a950-4309-b0e6-9af1802e4647",
   "metadata": {
    "tags": []
   },
   "outputs": [
    {
     "data": {
      "text/plain": [
       "id                  object\n",
       "subreddit           object\n",
       "title               object\n",
       "posttext            object\n",
       "time_posted         object\n",
       "time_now            object\n",
       "time_difference     object\n",
       "num_comments         int64\n",
       "upvote_ratio       float64\n",
       "url                 object\n",
       "dtype: object"
      ]
     },
     "execution_count": 7,
     "metadata": {},
     "output_type": "execute_result"
    }
   ],
   "source": [
    "stocks.dtypes"
   ]
  },
  {
   "cell_type": "markdown",
   "id": "5df3c8c4-28a8-49fb-9e24-fd00a2ee3223",
   "metadata": {},
   "source": [
    "## Investing"
   ]
  },
  {
   "cell_type": "code",
   "execution_count": 8,
   "id": "73ab8713-0e1d-40a5-a7bc-02d1710ac905",
   "metadata": {
    "tags": []
   },
   "outputs": [],
   "source": [
    "investing = pd.read_csv('../EDA/data/investing.csv')"
   ]
  },
  {
   "cell_type": "code",
   "execution_count": 9,
   "id": "83c641ec-9bc9-4635-b882-1819a5bb635f",
   "metadata": {
    "tags": []
   },
   "outputs": [
    {
     "data": {
      "text/plain": [
       "(13753, 10)"
      ]
     },
     "execution_count": 9,
     "metadata": {},
     "output_type": "execute_result"
    }
   ],
   "source": [
    "investing.shape"
   ]
  },
  {
   "cell_type": "code",
   "execution_count": 10,
   "id": "dc135495-cb16-404b-b1ad-f390367e3b3e",
   "metadata": {
    "tags": []
   },
   "outputs": [
    {
     "data": {
      "text/html": [
       "<div>\n",
       "<style scoped>\n",
       "    .dataframe tbody tr th:only-of-type {\n",
       "        vertical-align: middle;\n",
       "    }\n",
       "\n",
       "    .dataframe tbody tr th {\n",
       "        vertical-align: top;\n",
       "    }\n",
       "\n",
       "    .dataframe thead th {\n",
       "        text-align: right;\n",
       "    }\n",
       "</style>\n",
       "<table border=\"1\" class=\"dataframe\">\n",
       "  <thead>\n",
       "    <tr style=\"text-align: right;\">\n",
       "      <th></th>\n",
       "      <th>id</th>\n",
       "      <th>subreddit</th>\n",
       "      <th>title</th>\n",
       "      <th>posttext</th>\n",
       "      <th>time_posted</th>\n",
       "      <th>time_now</th>\n",
       "      <th>time_difference</th>\n",
       "      <th>num_comments</th>\n",
       "      <th>upvote_ratio</th>\n",
       "      <th>url</th>\n",
       "    </tr>\n",
       "  </thead>\n",
       "  <tbody>\n",
       "    <tr>\n",
       "      <th>0</th>\n",
       "      <td>1axwwm1</td>\n",
       "      <td>investing</td>\n",
       "      <td>Daily General Discussion and Advice Thread - F...</td>\n",
       "      <td>Have a general question?  Want to offer some c...</td>\n",
       "      <td>2024-02-23 10:01:08</td>\n",
       "      <td>2024-02-24 00:37:44.155873</td>\n",
       "      <td>0 days 14:36:36.155876</td>\n",
       "      <td>NaN</td>\n",
       "      <td>NaN</td>\n",
       "      <td>NaN</td>\n",
       "    </tr>\n",
       "    <tr>\n",
       "      <th>1</th>\n",
       "      <td>1ay852f</td>\n",
       "      <td>investing</td>\n",
       "      <td>Do all stocks go up because one stock goes up?</td>\n",
       "      <td>NVDA is a $2 trillion company, which is the th...</td>\n",
       "      <td>2024-02-23 18:40:11</td>\n",
       "      <td>2024-02-24 00:37:44.155886</td>\n",
       "      <td>0 days 05:57:33.155886</td>\n",
       "      <td>NaN</td>\n",
       "      <td>NaN</td>\n",
       "      <td>NaN</td>\n",
       "    </tr>\n",
       "    <tr>\n",
       "      <th>2</th>\n",
       "      <td>1ay5t1j</td>\n",
       "      <td>investing</td>\n",
       "      <td>Anyone looking to live just off dividends and ...</td>\n",
       "      <td>Planning to work as long as I can to build up ...</td>\n",
       "      <td>2024-02-23 17:10:12</td>\n",
       "      <td>2024-02-24 00:37:44.155890</td>\n",
       "      <td>0 days 07:27:32.155891</td>\n",
       "      <td>NaN</td>\n",
       "      <td>NaN</td>\n",
       "      <td>NaN</td>\n",
       "    </tr>\n",
       "    <tr>\n",
       "      <th>3</th>\n",
       "      <td>1ayclmn</td>\n",
       "      <td>investing</td>\n",
       "      <td>Should I dump them or hold?</td>\n",
       "      <td>Have two very bad pick stocks (don't we all?) ...</td>\n",
       "      <td>2024-02-23 21:41:08</td>\n",
       "      <td>2024-02-24 00:37:44.155895</td>\n",
       "      <td>0 days 02:56:36.155895</td>\n",
       "      <td>NaN</td>\n",
       "      <td>NaN</td>\n",
       "      <td>NaN</td>\n",
       "    </tr>\n",
       "    <tr>\n",
       "      <th>4</th>\n",
       "      <td>1axo37b</td>\n",
       "      <td>investing</td>\n",
       "      <td>For people that rode the NVDA pump \"all the wa...</td>\n",
       "      <td>NVDA is blowing my mind. I'm certainly more of...</td>\n",
       "      <td>2024-02-23 01:32:09</td>\n",
       "      <td>2024-02-24 00:37:44.155900</td>\n",
       "      <td>0 days 23:05:35.155900</td>\n",
       "      <td>NaN</td>\n",
       "      <td>NaN</td>\n",
       "      <td>NaN</td>\n",
       "    </tr>\n",
       "  </tbody>\n",
       "</table>\n",
       "</div>"
      ],
      "text/plain": [
       "        id  subreddit                                              title  \\\n",
       "0  1axwwm1  investing  Daily General Discussion and Advice Thread - F...   \n",
       "1  1ay852f  investing     Do all stocks go up because one stock goes up?   \n",
       "2  1ay5t1j  investing  Anyone looking to live just off dividends and ...   \n",
       "3  1ayclmn  investing                        Should I dump them or hold?   \n",
       "4  1axo37b  investing  For people that rode the NVDA pump \"all the wa...   \n",
       "\n",
       "                                            posttext          time_posted  \\\n",
       "0  Have a general question?  Want to offer some c...  2024-02-23 10:01:08   \n",
       "1  NVDA is a $2 trillion company, which is the th...  2024-02-23 18:40:11   \n",
       "2  Planning to work as long as I can to build up ...  2024-02-23 17:10:12   \n",
       "3  Have two very bad pick stocks (don't we all?) ...  2024-02-23 21:41:08   \n",
       "4  NVDA is blowing my mind. I'm certainly more of...  2024-02-23 01:32:09   \n",
       "\n",
       "                     time_now         time_difference  num_comments  \\\n",
       "0  2024-02-24 00:37:44.155873  0 days 14:36:36.155876           NaN   \n",
       "1  2024-02-24 00:37:44.155886  0 days 05:57:33.155886           NaN   \n",
       "2  2024-02-24 00:37:44.155890  0 days 07:27:32.155891           NaN   \n",
       "3  2024-02-24 00:37:44.155895  0 days 02:56:36.155895           NaN   \n",
       "4  2024-02-24 00:37:44.155900  0 days 23:05:35.155900           NaN   \n",
       "\n",
       "   upvote_ratio  url  \n",
       "0           NaN  NaN  \n",
       "1           NaN  NaN  \n",
       "2           NaN  NaN  \n",
       "3           NaN  NaN  \n",
       "4           NaN  NaN  "
      ]
     },
     "execution_count": 10,
     "metadata": {},
     "output_type": "execute_result"
    }
   ],
   "source": [
    "investing.head(5)"
   ]
  },
  {
   "cell_type": "code",
   "execution_count": 11,
   "id": "e9d116b1-d044-48ff-aa87-50dc60fff621",
   "metadata": {
    "tags": []
   },
   "outputs": [
    {
     "name": "stdout",
     "output_type": "stream",
     "text": [
      "Master DF: (19835, 10),\n",
      " Stocks: (6082, 10), \n",
      " Investing: (13753, 10)\n"
     ]
    }
   ],
   "source": [
    "master_df = pd.concat([stocks, investing])\n",
    "print(f'Master DF: {master_df.shape},\\n Stocks: {stocks.shape}, \\n Investing: {investing.shape}')\n"
   ]
  },
  {
   "cell_type": "code",
   "execution_count": 12,
   "id": "be4eac94-0782-4611-aaa0-5303f055113a",
   "metadata": {},
   "outputs": [],
   "source": [
    "#creating master dataframe"
   ]
  },
  {
   "cell_type": "code",
   "execution_count": 13,
   "id": "80f088d1-330b-4991-b921-7417ce91f9cb",
   "metadata": {
    "tags": []
   },
   "outputs": [],
   "source": [
    "#output to csv\n",
    "master_df.to_csv('../EDA/data/master_df.csv', index = False)"
   ]
  },
  {
   "cell_type": "code",
   "execution_count": null,
   "id": "b29e57d1-0340-422c-aa4c-1e5837ef73b7",
   "metadata": {},
   "outputs": [],
   "source": []
  }
 ],
 "metadata": {
  "kernelspec": {
   "display_name": "Python 3 (ipykernel)",
   "language": "python",
   "name": "python3"
  },
  "language_info": {
   "codemirror_mode": {
    "name": "ipython",
    "version": 3
   },
   "file_extension": ".py",
   "mimetype": "text/x-python",
   "name": "python",
   "nbconvert_exporter": "python",
   "pygments_lexer": "ipython3",
   "version": "3.11.5"
  }
 },
 "nbformat": 4,
 "nbformat_minor": 5
}
