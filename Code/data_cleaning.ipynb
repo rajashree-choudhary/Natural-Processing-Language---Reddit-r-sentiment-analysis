{
 "cells": [
  {
   "cell_type": "markdown",
   "id": "e0652558-7cd1-4257-a832-0a422ea753b7",
   "metadata": {},
   "source": [
    "# Data Cleaning and Processing"
   ]
  },
  {
   "cell_type": "markdown",
   "id": "46412e41-2c4a-425e-88af-383069654347",
   "metadata": {},
   "source": [
    "#### This notebook is designed to handle data processing tasks and extract information required for analysis. The steps involved are as follows:\n",
    "\n",
    "- Feature Selection: Identifying and selecting the relevant features from the dataset.\n",
    "- Imputing Missing Values: Addressing missing data by replacing them using appropriate methods.\n",
    "- Removing Possible Duplicates: Ensuring data integrity by eliminating any potential duplicate entries, especially if not adequately handled during the data collection phase.\n",
    "- Normalizing and Encoding Categorical Variables: Standardizing categorical variables and encoding them for further analysis.\n",
    "- Exporting Cleaned Data: The processed data will then be exported in a suitable format for subsequent exploratory data analysis (EDA)."
   ]
  },
  {
   "cell_type": "markdown",
   "id": "8386c3ca-7f5d-4720-b431-58ac46b1e5fb",
   "metadata": {},
   "source": [
    "#### Imports"
   ]
  },
  {
   "cell_type": "code",
   "execution_count": 1,
   "id": "bd3d7a0f-a18a-4387-b344-acdc96c6c6e6",
   "metadata": {
    "tags": []
   },
   "outputs": [],
   "source": [
    "import pandas as pd\n",
    "import numpy as np\n",
    "from sklearn.preprocessing import StandardScaler\n",
    "\n",
    "#very important\n",
    "#Ignore warnings\n",
    "from warnings import filterwarnings\n",
    "filterwarnings('ignore')"
   ]
  },
  {
   "cell_type": "markdown",
   "id": "c51ba879-6081-4757-bc6a-c9f7ed38177e",
   "metadata": {},
   "source": [
    "#### Loading data"
   ]
  },
  {
   "cell_type": "code",
   "execution_count": 2,
   "id": "e15044fa-6b7a-409c-829b-e47762189786",
   "metadata": {
    "tags": []
   },
   "outputs": [],
   "source": [
    "# pd.read_csv read data from the csv file and creates the data frame\n",
    "master_df = pd.read_csv('../EDA/data/master_df.csv')"
   ]
  },
  {
   "cell_type": "code",
   "execution_count": 3,
   "id": "54acda33-1a20-4a18-966e-4c5ca81596b2",
   "metadata": {
    "tags": []
   },
   "outputs": [
    {
     "data": {
      "text/plain": [
       "(19835, 10)"
      ]
     },
     "execution_count": 3,
     "metadata": {},
     "output_type": "execute_result"
    }
   ],
   "source": [
    "#checking the dimension of the dataframe\n",
    "master_df.shape"
   ]
  },
  {
   "cell_type": "markdown",
   "id": "71e663f9-0012-422e-b4e1-9261e976614b",
   "metadata": {},
   "source": [
    "#### Understanding the structure and properties of the data"
   ]
  },
  {
   "cell_type": "code",
   "execution_count": 4,
   "id": "29f5e65f-819b-4c99-8a4d-413377b1d35b",
   "metadata": {
    "tags": []
   },
   "outputs": [
    {
     "data": {
      "text/plain": [
       "Index(['id', 'subreddit', 'title', 'posttext', 'time_posted', 'time_now',\n",
       "       'time_difference', 'num_comments', 'upvote_ratio', 'url'],\n",
       "      dtype='object')"
      ]
     },
     "execution_count": 4,
     "metadata": {},
     "output_type": "execute_result"
    }
   ],
   "source": [
    "#checking columns\n",
    "# .columns returns the column names in the data frame\n",
    "master_df.columns"
   ]
  },
  {
   "cell_type": "code",
   "execution_count": 5,
   "id": "5e9d2f57-3ab2-4190-a401-fc3378a32a75",
   "metadata": {
    "tags": []
   },
   "outputs": [],
   "source": [
    "master_df.rename(columns={'posttext': 'selftext'}, inplace=True)"
   ]
  },
  {
   "cell_type": "code",
   "execution_count": null,
   "id": "0e27cf55-378e-421f-8ef6-3c9c1b0b68e5",
   "metadata": {},
   "outputs": [],
   "source": []
  },
  {
   "cell_type": "code",
   "execution_count": 6,
   "id": "4ce8f983-b360-41fc-9ef4-71c70fa6c316",
   "metadata": {
    "tags": []
   },
   "outputs": [
    {
     "data": {
      "text/plain": [
       "id                  object\n",
       "subreddit           object\n",
       "title               object\n",
       "selftext            object\n",
       "time_posted         object\n",
       "time_now            object\n",
       "time_difference     object\n",
       "num_comments       float64\n",
       "upvote_ratio       float64\n",
       "url                 object\n",
       "dtype: object"
      ]
     },
     "execution_count": 6,
     "metadata": {},
     "output_type": "execute_result"
    }
   ],
   "source": [
    "#checking dtypes\n",
    "# .dtypes returns data types of each column in the data frame\n",
    "master_df.dtypes"
   ]
  },
  {
   "cell_type": "code",
   "execution_count": 7,
   "id": "8a94f5e6-d369-43f8-993e-738d8cd7870d",
   "metadata": {
    "tags": []
   },
   "outputs": [
    {
     "name": "stdout",
     "output_type": "stream",
     "text": [
      "<class 'pandas.core.frame.DataFrame'>\n",
      "RangeIndex: 19835 entries, 0 to 19834\n",
      "Data columns (total 10 columns):\n",
      " #   Column           Non-Null Count  Dtype  \n",
      "---  ------           --------------  -----  \n",
      " 0   id               19835 non-null  object \n",
      " 1   subreddit        19835 non-null  object \n",
      " 2   title            19835 non-null  object \n",
      " 3   selftext         19676 non-null  object \n",
      " 4   time_posted      19835 non-null  object \n",
      " 5   time_now         19835 non-null  object \n",
      " 6   time_difference  19835 non-null  object \n",
      " 7   num_comments     15382 non-null  float64\n",
      " 8   upvote_ratio     15382 non-null  float64\n",
      " 9   url              15382 non-null  object \n",
      "dtypes: float64(2), object(8)\n",
      "memory usage: 1.5+ MB\n"
     ]
    }
   ],
   "source": [
    "# .info : provides with the overview of the dataset\n",
    "master_df.info()"
   ]
  },
  {
   "cell_type": "code",
   "execution_count": 8,
   "id": "e06c9c74-d593-4e45-a9fc-d186f35fc72a",
   "metadata": {
    "tags": []
   },
   "outputs": [
    {
     "data": {
      "text/html": [
       "<div>\n",
       "<style scoped>\n",
       "    .dataframe tbody tr th:only-of-type {\n",
       "        vertical-align: middle;\n",
       "    }\n",
       "\n",
       "    .dataframe tbody tr th {\n",
       "        vertical-align: top;\n",
       "    }\n",
       "\n",
       "    .dataframe thead th {\n",
       "        text-align: right;\n",
       "    }\n",
       "</style>\n",
       "<table border=\"1\" class=\"dataframe\">\n",
       "  <thead>\n",
       "    <tr style=\"text-align: right;\">\n",
       "      <th></th>\n",
       "      <th>id</th>\n",
       "      <th>subreddit</th>\n",
       "      <th>title</th>\n",
       "      <th>selftext</th>\n",
       "      <th>time_posted</th>\n",
       "      <th>time_now</th>\n",
       "      <th>time_difference</th>\n",
       "      <th>num_comments</th>\n",
       "      <th>upvote_ratio</th>\n",
       "      <th>url</th>\n",
       "    </tr>\n",
       "  </thead>\n",
       "  <tbody>\n",
       "    <tr>\n",
       "      <th>0</th>\n",
       "      <td>18888ww</td>\n",
       "      <td>stocks</td>\n",
       "      <td>Rate My Portfolio - r/Stocks Quarterly Thread ...</td>\n",
       "      <td>Please use this thread to discuss your portfol...</td>\n",
       "      <td>2023-12-01 10:00:24</td>\n",
       "      <td>2024-02-28 22:08:57.699800</td>\n",
       "      <td>89 days 12:08:33.699801</td>\n",
       "      <td>621.0</td>\n",
       "      <td>0.99</td>\n",
       "      <td>https://www.reddit.com/r/stocks/comments/18888...</td>\n",
       "    </tr>\n",
       "    <tr>\n",
       "      <th>1</th>\n",
       "      <td>1b22xgu</td>\n",
       "      <td>stocks</td>\n",
       "      <td>r/Stocks Daily Discussion Wednesday - Feb 28, ...</td>\n",
       "      <td>These daily discussions run from Monday to Fri...</td>\n",
       "      <td>2024-02-28 10:30:09</td>\n",
       "      <td>2024-02-28 22:08:57.699812</td>\n",
       "      <td>0 days 11:38:48.699813</td>\n",
       "      <td>387.0</td>\n",
       "      <td>0.88</td>\n",
       "      <td>https://www.reddit.com/r/stocks/comments/1b22x...</td>\n",
       "    </tr>\n",
       "  </tbody>\n",
       "</table>\n",
       "</div>"
      ],
      "text/plain": [
       "        id subreddit                                              title  \\\n",
       "0  18888ww    stocks  Rate My Portfolio - r/Stocks Quarterly Thread ...   \n",
       "1  1b22xgu    stocks  r/Stocks Daily Discussion Wednesday - Feb 28, ...   \n",
       "\n",
       "                                            selftext          time_posted  \\\n",
       "0  Please use this thread to discuss your portfol...  2023-12-01 10:00:24   \n",
       "1  These daily discussions run from Monday to Fri...  2024-02-28 10:30:09   \n",
       "\n",
       "                     time_now          time_difference  num_comments  \\\n",
       "0  2024-02-28 22:08:57.699800  89 days 12:08:33.699801         621.0   \n",
       "1  2024-02-28 22:08:57.699812   0 days 11:38:48.699813         387.0   \n",
       "\n",
       "   upvote_ratio                                                url  \n",
       "0          0.99  https://www.reddit.com/r/stocks/comments/18888...  \n",
       "1          0.88  https://www.reddit.com/r/stocks/comments/1b22x...  "
      ]
     },
     "execution_count": 8,
     "metadata": {},
     "output_type": "execute_result"
    }
   ],
   "source": [
    "master_df.head(2)"
   ]
  },
  {
   "cell_type": "markdown",
   "id": "3c2adb44-3d6a-497b-bdda-153e4115ffdf",
   "metadata": {},
   "source": [
    "### Imputing Missing Values"
   ]
  },
  {
   "cell_type": "markdown",
   "id": "065fddb3-cafa-474f-b44d-b59a06f6b939",
   "metadata": {},
   "source": [
    "#### Posttext (actual name was selftext)"
   ]
  },
  {
   "cell_type": "code",
   "execution_count": 9,
   "id": "54bef560-ce97-43d1-a512-b30c040c854e",
   "metadata": {
    "tags": []
   },
   "outputs": [],
   "source": [
    "master_df['selftext'].fillna('title', inplace = True)"
   ]
  },
  {
   "cell_type": "code",
   "execution_count": 10,
   "id": "e8972a90-d998-428b-b927-0c0cb07ba3af",
   "metadata": {
    "tags": []
   },
   "outputs": [
    {
     "name": "stdout",
     "output_type": "stream",
     "text": [
      "Self Text Null is: 0\n"
     ]
    }
   ],
   "source": [
    "master_df['selftext'].value_counts()\n",
    "print(f'Self Text Null is: {master_df[\"selftext\"].isnull().sum()}')"
   ]
  },
  {
   "cell_type": "code",
   "execution_count": 11,
   "id": "d21d1396-4aed-47bf-b5af-77a85334baac",
   "metadata": {
    "tags": []
   },
   "outputs": [
    {
     "data": {
      "text/plain": [
       "id                    0\n",
       "subreddit             0\n",
       "title                 0\n",
       "selftext              0\n",
       "time_posted           0\n",
       "time_now              0\n",
       "time_difference       0\n",
       "num_comments       4453\n",
       "upvote_ratio       4453\n",
       "url                4453\n",
       "dtype: int64"
      ]
     },
     "execution_count": 11,
     "metadata": {},
     "output_type": "execute_result"
    }
   ],
   "source": [
    "master_df.isnull().sum()"
   ]
  },
  {
   "cell_type": "code",
   "execution_count": 12,
   "id": "504c733b-1f65-412a-aec8-cee2afbc46ed",
   "metadata": {
    "tags": []
   },
   "outputs": [],
   "source": [
    "#filling url missing values as 'unknown' \n",
    "master_df['url'] = master_df['url'].fillna('unknown')"
   ]
  },
  {
   "cell_type": "code",
   "execution_count": 13,
   "id": "ae824a5a-438c-4a80-912f-3e05becbc378",
   "metadata": {
    "tags": []
   },
   "outputs": [
    {
     "data": {
      "text/plain": [
       "id                    0\n",
       "subreddit             0\n",
       "title                 0\n",
       "selftext              0\n",
       "time_posted           0\n",
       "time_now              0\n",
       "time_difference       0\n",
       "num_comments       4453\n",
       "upvote_ratio       4453\n",
       "url                   0\n",
       "dtype: int64"
      ]
     },
     "execution_count": 13,
     "metadata": {},
     "output_type": "execute_result"
    }
   ],
   "source": [
    "master_df.isnull().sum()"
   ]
  },
  {
   "cell_type": "code",
   "execution_count": 14,
   "id": "80da74a1-40ba-4a74-8568-11531767d9e6",
   "metadata": {
    "tags": []
   },
   "outputs": [],
   "source": [
    "master_df['num_comments'] = master_df['num_comments'].fillna(0)"
   ]
  },
  {
   "cell_type": "code",
   "execution_count": 15,
   "id": "620ede95-08c6-413a-8c80-dd8aa4fb52bf",
   "metadata": {
    "tags": []
   },
   "outputs": [],
   "source": [
    "master_df['upvote_ratio'] = master_df['upvote_ratio'].fillna(0)"
   ]
  },
  {
   "cell_type": "code",
   "execution_count": 16,
   "id": "77c73101-268f-4511-8ba3-f7daf3d3cd58",
   "metadata": {
    "tags": []
   },
   "outputs": [
    {
     "data": {
      "text/plain": [
       "id                 0\n",
       "subreddit          0\n",
       "title              0\n",
       "selftext           0\n",
       "time_posted        0\n",
       "time_now           0\n",
       "time_difference    0\n",
       "num_comments       0\n",
       "upvote_ratio       0\n",
       "url                0\n",
       "dtype: int64"
      ]
     },
     "execution_count": 16,
     "metadata": {},
     "output_type": "execute_result"
    }
   ],
   "source": [
    "master_df.isnull().sum()"
   ]
  },
  {
   "cell_type": "markdown",
   "id": "7a44c390-9ff2-42fc-a536-4bb1bf1dfdf4",
   "metadata": {},
   "source": [
    "## Removing duplicate values"
   ]
  },
  {
   "cell_type": "code",
   "execution_count": 17,
   "id": "5954ebe2-8dd3-4412-82a0-5b44043d0121",
   "metadata": {
    "tags": []
   },
   "outputs": [
    {
     "data": {
      "text/plain": [
       "15943"
      ]
     },
     "execution_count": 17,
     "metadata": {},
     "output_type": "execute_result"
    }
   ],
   "source": [
    "#master_df.duplicated(title).sum()\n",
    "master_df.duplicated(subset=['title']).sum()"
   ]
  },
  {
   "cell_type": "code",
   "execution_count": 18,
   "id": "44e2381d-3544-4b34-87a5-b2afdc80bc97",
   "metadata": {
    "tags": []
   },
   "outputs": [
    {
     "data": {
      "text/plain": [
       "0"
      ]
     },
     "execution_count": 18,
     "metadata": {},
     "output_type": "execute_result"
    }
   ],
   "source": [
    "master_df.drop_duplicates(subset=['selftext'], inplace=True)\n",
    "\n",
    "master_df.duplicated(subset=['selftext']).sum()"
   ]
  },
  {
   "cell_type": "code",
   "execution_count": 19,
   "id": "a06ae9f9-170a-4752-801b-f56796d61e8f",
   "metadata": {
    "tags": []
   },
   "outputs": [
    {
     "data": {
      "text/plain": [
       "id                 0\n",
       "subreddit          0\n",
       "title              0\n",
       "selftext           0\n",
       "time_posted        0\n",
       "time_now           0\n",
       "time_difference    0\n",
       "num_comments       0\n",
       "upvote_ratio       0\n",
       "url                0\n",
       "dtype: int64"
      ]
     },
     "execution_count": 19,
     "metadata": {},
     "output_type": "execute_result"
    }
   ],
   "source": [
    "master_df.isna().sum()"
   ]
  },
  {
   "cell_type": "code",
   "execution_count": 20,
   "id": "078d5fbd-4d73-4316-ac2e-d2ae8855d8d9",
   "metadata": {
    "tags": []
   },
   "outputs": [
    {
     "data": {
      "text/plain": [
       "(3802, 10)"
      ]
     },
     "execution_count": 20,
     "metadata": {},
     "output_type": "execute_result"
    }
   ],
   "source": [
    "master_df.shape"
   ]
  },
  {
   "cell_type": "code",
   "execution_count": null,
   "id": "d39d10ec-9c18-4b53-88e4-56f6400c7d7a",
   "metadata": {},
   "outputs": [],
   "source": []
  },
  {
   "cell_type": "code",
   "execution_count": 21,
   "id": "cfd2d1fe-0f26-4f59-9cdd-0d380849ce76",
   "metadata": {
    "tags": []
   },
   "outputs": [],
   "source": [
    "def preprocess_dataframe(df):\n",
    "    # Normalize numerical columns\n",
    "    numerical_cols = ['upvote_ratio', 'num_comments']\n",
    "    df[numerical_cols] = StandardScaler().fit_transform(df[numerical_cols])\n",
    "\n",
    "    # Process 'time_posted' column (timestamp)\n",
    "    df['time_posted'] = pd.to_datetime(df['time_posted'])  # No need to specify unit\n",
    "\n",
    "    # Extract hour_of_day and day_of_week from 'time_posted'\n",
    "    df['hour_of_day'] = df['time_posted'].dt.hour\n",
    "    df['day_of_week'] = df['time_posted'].dt.dayofweek\n",
    "\n",
    "    # Drop 'time_posted' column after extracting hour_of_day and day_of_week\n",
    "    df = df.drop('time_posted', axis=1)\n",
    "\n",
    "    return df"
   ]
  },
  {
   "cell_type": "code",
   "execution_count": 22,
   "id": "a9bdb36b-82de-4ec6-afc2-de5e6804e329",
   "metadata": {
    "tags": []
   },
   "outputs": [
    {
     "name": "stdout",
     "output_type": "stream",
     "text": [
      "(3802, 11)\n",
      "            id  subreddit                                              title  \\\n",
      "17624  1b1ntmx  investing                          What to do with lump sum?   \n",
      "17625  1b1nakn  investing                       Long Term investment advice?   \n",
      "17626  1b1mpq5  investing  Stock Market Hasn’t Been This Hot in Decades. ...   \n",
      "17627  1b1mco5  investing  Broker for my child's UTMA hasn't made anythin...   \n",
      "17628  1b1mcn0  investing  Why is it said that saving in the bank is the ...   \n",
      "17629  1b1lcxt  investing  Warren Buffett is not fond of how the markets ...   \n",
      "17630  1b1lb90  investing                     Schwab ? Making the change 😬 ?   \n",
      "17631  1b1l921  investing              Short term (1month) cash, what to do?   \n",
      "17662  1b0t1pn  investing  EV stocks. How are you navigating the current ...   \n",
      "18504  1b2aue5  investing                 Hedging S&P 500 Position - 3 Years   \n",
      "\n",
      "                                                selftext  \\\n",
      "17624  Curious what the general suggestion of the red...   \n",
      "17625  Hello,\\n\\nI am 27 years old and looking for so...   \n",
      "17626  This is mostly a straight copy paste from a Ba...   \n",
      "17627  Opened an UTMA for my daughter in February 202...   \n",
      "17628  I know that investing in stocks will be much m...   \n",
      "17629  “For whatever reasons, markets now exhibit far...   \n",
      "17630  Have been a T.D. Ameritrade customer for a few...   \n",
      "17631  I have cash I don't need for at least 1 month....   \n",
      "17662  My EV portfolio is looking dire gents - more h...   \n",
      "18504  SPY at $500 Open position of 400 shares worth ...   \n",
      "\n",
      "                         time_now         time_difference  num_comments  \\\n",
      "17624  2024-02-28 20:00:58.569700  0 days 22:23:45.569700     -0.355742   \n",
      "17625  2024-02-28 20:00:58.569705  0 days 22:44:25.569705     -0.447472   \n",
      "17626  2024-02-28 20:00:58.569712  0 days 23:07:05.569713     -0.407487   \n",
      "17627  2024-02-28 20:00:58.569720  0 days 23:21:32.569720     -0.264013   \n",
      "17628  2024-02-28 20:00:58.569724  0 days 23:21:34.569725     -0.426303   \n",
      "17629  2024-02-28 20:00:58.569729  1 days 00:00:51.569730     -0.031161   \n",
      "17630  2024-02-28 20:00:58.569734  1 days 00:02:46.569735     -0.271069   \n",
      "17631  2024-02-28 20:00:58.569738  1 days 00:05:19.569738     -0.442768   \n",
      "17662  2024-02-28 20:00:58.569939  1 days 22:44:19.569940     -0.162875   \n",
      "18504  2024-02-28 20:00:17.763286  0 days 03:07:34.763286     -0.445120   \n",
      "\n",
      "       upvote_ratio                                                url  \\\n",
      "17624     -0.032131  https://www.reddit.com/r/investing/comments/1b...   \n",
      "17625      0.639225  https://www.reddit.com/r/investing/comments/1b...   \n",
      "17626      0.014169  https://www.reddit.com/r/investing/comments/1b...   \n",
      "17627      0.917028  https://www.reddit.com/r/investing/comments/1b...   \n",
      "17628     -0.379385  https://www.reddit.com/r/investing/comments/1b...   \n",
      "17629      1.079079  https://www.reddit.com/r/investing/comments/1b...   \n",
      "17630      0.986478  https://www.reddit.com/r/investing/comments/1b...   \n",
      "17631     -0.402535  https://www.reddit.com/r/investing/comments/1b...   \n",
      "17662      0.639225  https://www.reddit.com/r/investing/comments/1b...   \n",
      "18504      0.407723  https://www.reddit.com/r/investing/comments/1b...   \n",
      "\n",
      "       hour_of_day  day_of_week  \n",
      "17624           21            1  \n",
      "17625           21            1  \n",
      "17626           20            1  \n",
      "17627           20            1  \n",
      "17628           20            1  \n",
      "17629           20            1  \n",
      "17630           19            1  \n",
      "17631           19            1  \n",
      "17662           21            0  \n",
      "18504           16            2  \n"
     ]
    }
   ],
   "source": [
    "#Checking the cleaned data\n",
    "processed_df = preprocess_dataframe(master_df)\n",
    "print(processed_df.shape)\n",
    "print(processed_df.tail(10))"
   ]
  },
  {
   "cell_type": "code",
   "execution_count": 23,
   "id": "d0f14e83-8d0d-4250-a968-ebf3a104746d",
   "metadata": {},
   "outputs": [],
   "source": [
    "## Saving the ouput processed data for further analysis"
   ]
  },
  {
   "cell_type": "code",
   "execution_count": 24,
   "id": "354fcde5-5cc2-414f-b211-99bc73dacb31",
   "metadata": {
    "tags": []
   },
   "outputs": [],
   "source": [
    "#saving the output as csv, named 'processed_data\n",
    "processed_df.to_csv('../ANALYSIS/data/processed_data.csv', index=False)"
   ]
  },
  {
   "cell_type": "code",
   "execution_count": null,
   "id": "fd04f6c8-80d0-4ca7-be23-5cdf33c4cd8d",
   "metadata": {},
   "outputs": [],
   "source": []
  }
 ],
 "metadata": {
  "kernelspec": {
   "display_name": "Python 3 (ipykernel)",
   "language": "python",
   "name": "python3"
  },
  "language_info": {
   "codemirror_mode": {
    "name": "ipython",
    "version": 3
   },
   "file_extension": ".py",
   "mimetype": "text/x-python",
   "name": "python",
   "nbconvert_exporter": "python",
   "pygments_lexer": "ipython3",
   "version": "3.11.5"
  }
 },
 "nbformat": 4,
 "nbformat_minor": 5
}
